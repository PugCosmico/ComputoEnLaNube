{
  "nbformat": 4,
  "nbformat_minor": 0,
  "metadata": {
    "colab": {
      "provenance": []
    },
    "kernelspec": {
      "name": "python3",
      "display_name": "Python 3"
    },
    "language_info": {
      "name": "python"
    }
  },
  "cells": [
    {
      "cell_type": "markdown",
      "source": [
        "**1**\n"
      ],
      "metadata": {
        "id": "MXAB5zTXjjr0"
      }
    },
    {
      "cell_type": "code",
      "execution_count": 5,
      "metadata": {
        "colab": {
          "base_uri": "https://localhost:8080/"
        },
        "id": "dxSf7KmFc2cq",
        "outputId": "04be61ee-603a-416f-bd89-0f745fbd0617"
      },
      "outputs": [
        {
          "output_type": "stream",
          "name": "stdout",
          "text": [
            "Red\n",
            "Carbon fiber\n",
            "Blue\n",
            "Steel\n",
            "¡Braking!\n"
          ]
        }
      ],
      "source": [
        "# bike.py\n",
        "# Definamos la clase Bike (Bicicleta)\n",
        "class Bike:\n",
        "  def __init__(self, colour, frame_material):\n",
        "    self.colour = colour\n",
        "    self.frame_material = frame_material\n",
        "  def brake(self):\n",
        "    print(\"¡Braking!\")\n",
        "\n",
        "# Creemos un par de instancias\n",
        "red_bike = Bike('Red', 'Carbon fiber')\n",
        "blue_bike = Bike('Blue', 'Steel')\n",
        "\n",
        "# Inspeccionemos los objetos que tenemos, instancias de la clase Bike.\n",
        "print(red_bike.colour) # imprime: Red\n",
        "print(red_bike.frame_material) # imprime: Carbon fiber\n",
        "print(blue_bike.colour) # imprime: Blue\n",
        "print(blue_bike.frame_material) # imprime: Steel\n",
        "\n",
        "# ¡Vamos a frenar!\n",
        "red_bike.brake() # imprime: ¡Braking!\n"
      ]
    },
    {
      "cell_type": "markdown",
      "source": [
        "2"
      ],
      "metadata": {
        "id": "FMZfv-urjrfS"
      }
    },
    {
      "cell_type": "code",
      "source": [
        "# scopes3.py\n",
        "# Local, Enclosing and Global\n",
        "\n",
        "# Definimos una función llamada enclosing_func\n",
        "def enclosing_func():\n",
        "  m = 13  # Creamos una variable m en el ámbito de enclosing_func\n",
        "  def local():\n",
        "    # La variable m no pertenece al ámbito definido por la función local\n",
        "    # por lo que Python seguirá buscando en el siguiente ámbito encerrado.\n",
        "    # En este caso, m se encuentra en el ámbito encerrado.\n",
        "    print(m, 'printing from the local scope')  # Imprime el valor de m desde el ámbito local\n",
        "  # Llamamos a la función local\n",
        "  local()\n",
        "\n",
        "m = 5  # Creamos una variable m en el ámbito global\n",
        "print(m, 'printing from the global scope')  # Imprime el valor de m desde el ámbito global\n",
        "\n",
        "# Llamamos a la función enclosing_func\n",
        "enclosing_func()\n"
      ],
      "metadata": {
        "colab": {
          "base_uri": "https://localhost:8080/"
        },
        "id": "S9tujpGQeGEq",
        "outputId": "1f6ebf05-3f73-4a25-f8d8-a17ea34c31bc"
      },
      "execution_count": 8,
      "outputs": [
        {
          "output_type": "stream",
          "name": "stdout",
          "text": [
            "5 printing from the global scope\n",
            "13 printing from the local scope\n"
          ]
        }
      ]
    },
    {
      "cell_type": "markdown",
      "source": [
        "3"
      ],
      "metadata": {
        "id": "maFqabscjtUH"
      }
    },
    {
      "cell_type": "code",
      "source": [
        "# taxes.py\n",
        "income = 15000\n",
        "if income < 10000:\n",
        "  tax_coefficient = 0.0 #1\n",
        "elif income < 30000:\n",
        "  tax_coefficient = 0.2 #2\n",
        "elif income < 100000:\n",
        "  tax_coefficient = 0.35 #3\n",
        "else:\n",
        "  tax_coefficient = 0.45 #4\n",
        "print(f'You will pay: ${income * tax_coefficient} in taxes')"
      ],
      "metadata": {
        "colab": {
          "base_uri": "https://localhost:8080/"
        },
        "id": "DwFVLVVagBf1",
        "outputId": "6efc98c6-24a5-428d-dcfc-066956b2b0eb"
      },
      "execution_count": 10,
      "outputs": [
        {
          "output_type": "stream",
          "name": "stdout",
          "text": [
            "You will pay: $3000.0 in taxes\n"
          ]
        }
      ]
    },
    {
      "cell_type": "markdown",
      "source": [
        "4"
      ],
      "metadata": {
        "id": "AuZB0gEVjuJd"
      }
    },
    {
      "cell_type": "code",
      "source": [
        "# multiple.sequences.py\n",
        "people = ['Nick', 'Rick', 'Roger', 'Syd']\n",
        "ages = [23, 24, 23, 21]\n",
        "for position in range(len(people)):\n",
        "  person = people[position]\n",
        "  age = ages[position]\n",
        "  print(person, age)"
      ],
      "metadata": {
        "colab": {
          "base_uri": "https://localhost:8080/"
        },
        "id": "_Mg8UrrthPnU",
        "outputId": "7bbba1c4-0e5d-4d4b-a3f3-9d0fc400facd"
      },
      "execution_count": 12,
      "outputs": [
        {
          "output_type": "stream",
          "name": "stdout",
          "text": [
            "Nick 23\n",
            "Rick 24\n",
            "Roger 23\n",
            "Syd 21\n"
          ]
        }
      ]
    },
    {
      "cell_type": "markdown",
      "source": [
        "5"
      ],
      "metadata": {
        "id": "UGcmC_Elju4o"
      }
    },
    {
      "cell_type": "code",
      "source": [
        "# multiple.sequences.while.py\n",
        "people = ['Nick', 'Rick', 'Roger', 'Syd']\n",
        "ages = [23, 24, 23, 21]\n",
        "position = 0\n",
        "while position < len(people):\n",
        "  person = people[position]\n",
        "  age = ages[position]\n",
        "  print(person, age)\n",
        "  position += 1"
      ],
      "metadata": {
        "colab": {
          "base_uri": "https://localhost:8080/"
        },
        "id": "f90SuxMihdVc",
        "outputId": "512df1ff-48e8-4f76-e987-d44b85586625"
      },
      "execution_count": 13,
      "outputs": [
        {
          "output_type": "stream",
          "name": "stdout",
          "text": [
            "Nick 23\n",
            "Rick 24\n",
            "Roger 23\n",
            "Syd 21\n"
          ]
        }
      ]
    },
    {
      "cell_type": "markdown",
      "source": [
        "6"
      ],
      "metadata": {
        "id": "QQ0Tde4RjwCr"
      }
    },
    {
      "cell_type": "code",
      "source": [
        "# discount.py\n",
        "from datetime import date, timedelta\n",
        "today = date.today()\n",
        "tomorrow = today + timedelta(days=1) # today + 1 day is tomorrow\n",
        "products = [\n",
        "  {'sku': '1', 'expiration_date': today, 'price': 100.0},\n",
        "  {'sku': '2', 'expiration_date': tomorrow, 'price': 50},\n",
        "  {'sku': '3', 'expiration_date': today, 'price': 20},\n",
        "]\n",
        "for product in products:\n",
        "  if product['expiration_date'] != today:\n",
        "    continue\n",
        "  product['price'] *= 0.8 # equivalent to applying 20% discount\n",
        "  print(\n",
        "    'Price for sku', product['sku'],\n",
        "    'is now', product['price'])"
      ],
      "metadata": {
        "colab": {
          "base_uri": "https://localhost:8080/"
        },
        "id": "JWCLo3LihvIe",
        "outputId": "93d54011-2ebd-485c-ad80-303c65617bf5"
      },
      "execution_count": 14,
      "outputs": [
        {
          "output_type": "stream",
          "name": "stdout",
          "text": [
            "Price for sku 1 is now 80.0\n",
            "Price for sku 3 is now 16.0\n"
          ]
        }
      ]
    },
    {
      "cell_type": "markdown",
      "source": [
        "7"
      ],
      "metadata": {
        "id": "NqUR156gjw3P"
      }
    },
    {
      "cell_type": "code",
      "source": [
        "# menu.walrus.py\n",
        "flavors = [\"pistachio\", \"malaga\", \"vanilla\", \"chocolate\", \"strawberry\"]\n",
        "prompt = \"Choose your flavor: \"\n",
        "print(flavors)\n",
        "while (choice := input(prompt)) not in flavors:\n",
        "  print(f\"Sorry, '{choice}' is not a valid option.\")\n",
        "print(f\"You chose '{choice}'.\")"
      ],
      "metadata": {
        "colab": {
          "base_uri": "https://localhost:8080/"
        },
        "id": "5B7b_A70jCUK",
        "outputId": "d0dbf0f4-a48f-4ab9-af56-47ed733d6047"
      },
      "execution_count": 20,
      "outputs": [
        {
          "output_type": "stream",
          "name": "stdout",
          "text": [
            "['pistachio', 'malaga', 'vanilla', 'chocolate', 'strawberry']\n",
            "Choose your flavor: chocolate\n",
            "You chose 'chocolate'.\n"
          ]
        }
      ]
    },
    {
      "cell_type": "markdown",
      "source": [
        "8"
      ],
      "metadata": {
        "id": "8XQopHvojx4T"
      }
    },
    {
      "cell_type": "code",
      "source": [
        "# primes.py\n",
        "primes = [] # this will contain the primes at the end\n",
        "upto = 100 # the limit, inclusive\n",
        "for n in range(2, upto + 1):\n",
        "  is_prime = True # flag, new at each iteration of outer for\n",
        "  for divisor in range(2, n):\n",
        "    if n % divisor == 0:\n",
        "      is_prime = False\n",
        "      break\n",
        "  if is_prime: # check on flag\n",
        "    primes.append(n)\n",
        "print(primes)"
      ],
      "metadata": {
        "colab": {
          "base_uri": "https://localhost:8080/"
        },
        "id": "YCvw8cwJkQJI",
        "outputId": "0693b603-3f24-4666-e51b-07efd616d583"
      },
      "execution_count": 21,
      "outputs": [
        {
          "output_type": "stream",
          "name": "stdout",
          "text": [
            "[2, 3, 5, 7, 11, 13, 17, 19, 23, 29, 31, 37, 41, 43, 47, 53, 59, 61, 67, 71, 73, 79, 83, 89, 97]\n"
          ]
        }
      ]
    },
    {
      "cell_type": "markdown",
      "source": [
        "9"
      ],
      "metadata": {
        "id": "vJFo5t_zjzL3"
      }
    },
    {
      "cell_type": "code",
      "source": [
        "# parameters.default.py\n",
        "def func(a, b=4, c=88):\n",
        "  print(a, b, c)\n",
        "func(1) # prints: 1 4 88\n",
        "func(b=5, a=7, c=9) # prints: 7 5 9\n",
        "func(42, c=9) # prints: 42 4 9\n",
        "func(42, 43, 44) # prints: 42, 43, 44"
      ],
      "metadata": {
        "colab": {
          "base_uri": "https://localhost:8080/"
        },
        "id": "ciEp0-bXlQWs",
        "outputId": "7a511439-b4a3-4903-945f-0d2ca724f58c"
      },
      "execution_count": 22,
      "outputs": [
        {
          "output_type": "stream",
          "name": "stdout",
          "text": [
            "1 4 88\n",
            "7 5 9\n",
            "42 4 9\n",
            "42 43 44\n"
          ]
        }
      ]
    },
    {
      "cell_type": "markdown",
      "source": [
        "10"
      ],
      "metadata": {
        "id": "sCAv3An5j5uh"
      }
    },
    {
      "cell_type": "code",
      "source": [
        "# primes.py\n",
        "from math import sqrt, ceil\n",
        "\n",
        "def get_primes(n):\n",
        "    \"\"\"Calculate a list of primes up to n (included).\"\"\"\n",
        "    primelist = []\n",
        "\n",
        "    for candidate in range(2, n + 1):\n",
        "        is_prime = True\n",
        "        root = ceil(sqrt(candidate))  # Límite de división\n",
        "\n",
        "        for prime in primelist:  # Probamos solo con los números primos\n",
        "            if prime > root:  # No es necesario seguir comprobando\n",
        "                break\n",
        "            if candidate % prime == 0:\n",
        "                is_prime = False\n",
        "                break\n",
        "\n",
        "        if is_prime:\n",
        "            primelist.append(candidate)\n",
        "    return primelist\n",
        "get_primes(100)"
      ],
      "metadata": {
        "colab": {
          "base_uri": "https://localhost:8080/"
        },
        "id": "rEWW6TE9lZyY",
        "outputId": "3f19c97f-f2a2-410b-eae4-6c1b08e24850"
      },
      "execution_count": 25,
      "outputs": [
        {
          "output_type": "execute_result",
          "data": {
            "text/plain": [
              "[2,\n",
              " 3,\n",
              " 5,\n",
              " 7,\n",
              " 11,\n",
              " 13,\n",
              " 17,\n",
              " 19,\n",
              " 23,\n",
              " 29,\n",
              " 31,\n",
              " 37,\n",
              " 41,\n",
              " 43,\n",
              " 47,\n",
              " 53,\n",
              " 59,\n",
              " 61,\n",
              " 67,\n",
              " 71,\n",
              " 73,\n",
              " 79,\n",
              " 83,\n",
              " 89,\n",
              " 97]"
            ]
          },
          "metadata": {},
          "execution_count": 25
        }
      ]
    },
    {
      "cell_type": "markdown",
      "source": [
        "DIVISIÓN"
      ],
      "metadata": {
        "id": "oDvMLB91lh6d"
      }
    },
    {
      "cell_type": "markdown",
      "source": [
        "1"
      ],
      "metadata": {
        "id": "cfTcfeXell_e"
      }
    },
    {
      "cell_type": "code",
      "source": [
        "# files/open_try.py\n",
        "# Abrir el archivo 'fear.txt' en modo lectura de texto ('r') y almacenar el manejador de archivo en 'fh'\n",
        "fh = open('fear.txt', 'rt')  # r: lectura, t: texto\n",
        "\n",
        "# Leer y procesar cada línea en el archivo\n",
        "for line in fh.readlines():\n",
        "    # Eliminar espacios en blanco al principio y al final de la línea, luego imprimir\n",
        "    print(line.strip())  # eliminar espacios en blanco y imprimir\n",
        "\n",
        "# Cerrar el archivo después de leerlo\n",
        "fh.close()\n"
      ],
      "metadata": {
        "colab": {
          "base_uri": "https://localhost:8080/"
        },
        "id": "cxjUvRyhlCPp",
        "outputId": "a3b3b499-541e-4a87-fafb-d444ae5e129a"
      },
      "execution_count": 6,
      "outputs": [
        {
          "output_type": "stream",
          "name": "stdout",
          "text": [
            "La historia del papel está intrínsecamente relacionada con la historia de la cultura y de la ciencia.\n",
            "\n",
            "El desencadenante que dio pie a la historia del papel es sencillo y, al mismo tiempo, importantísimo.\n",
            "\n",
            "El hombre tenía una necesidad urgente: comunicar a sus semejantes determinada información por escrito. La información debía quedar fijada en un material ligero y resistente, que fuese fácil de transportar. La invención del papel nos permitió sustituir el papiro y el pergamino por un material más sencillo de hacer y, gracias el perfeccionamiento de las técnicas de producción, más económico.\n"
          ]
        }
      ]
    },
    {
      "cell_type": "markdown",
      "source": [
        "2"
      ],
      "metadata": {
        "id": "pf3XUYKvmb94"
      }
    },
    {
      "cell_type": "code",
      "source": [
        "# files/print_file.py\n",
        "# Abrir el archivo 'print_example.txt' en modo escritura ('w') utilizando un contexto 'with'\n",
        "with open('print_example.txt', 'w') as fw:\n",
        "    # Imprimir la cadena en el archivo 'fw' en lugar de en la consola\n",
        "    print('¡Hey, estoy imprimiendo en un archivo!!!', file=fw)\n"
      ],
      "metadata": {
        "id": "o6bwBYFEmcYp"
      },
      "execution_count": 9,
      "outputs": []
    },
    {
      "cell_type": "markdown",
      "source": [
        "3"
      ],
      "metadata": {
        "id": "V4z16keZnTzP"
      }
    },
    {
      "cell_type": "code",
      "source": [
        "# files/read_write.py\n",
        "# Abrir el archivo 'fear.txt' en modo lectura utilizando un contexto 'with'\n",
        "with open('fear.txt') as f:\n",
        "    # Leer todas las líneas del archivo, eliminando los espacios en blanco al final de cada línea\n",
        "    lines = [line.rstrip() for line in f]\n",
        "\n",
        "# Abrir el archivo 'fear_copy.txt' en modo escritura utilizando un contexto 'with'\n",
        "with open('fear_copy.txt', 'w') as fw:\n",
        "    # Escribir las líneas en el archivo 'fw', uniendo las líneas con saltos de línea\n",
        "    fw.write('\\n'.join(lines))\n"
      ],
      "metadata": {
        "id": "Yw8bZhAtnVBI"
      },
      "execution_count": 11,
      "outputs": []
    },
    {
      "cell_type": "markdown",
      "source": [
        "4"
      ],
      "metadata": {
        "id": "_Pk--cK1n4pe"
      }
    },
    {
      "cell_type": "code",
      "source": [
        "# files/existence.py\n",
        "from pathlib import Path\n",
        "\n",
        "# Crear un objeto de ruta para el archivo 'fear.txt'\n",
        "p = Path('fear.txt')\n",
        "\n",
        "# Obtener la ruta absoluta del directorio padre de 'fear.txt'\n",
        "path = p.parent.absolute()\n",
        "\n",
        "# Comprobar si 'fear.txt' es un archivo\n",
        "print(p.is_file())  # True\n",
        "\n",
        "# Imprimir la ruta absoluta del directorio padre\n",
        "print(path)\n",
        "\n",
        "# Comprobar si la ruta 'path' es un directorio\n",
        "print(path.is_dir())  # True\n",
        "\n",
        "# Crear un objeto de ruta para el directorio\n",
        "q = Path('/content/')\n",
        "\n",
        "# Comprobar si 'q' es un directorio\n",
        "print(q.is_dir())  # True\n"
      ],
      "metadata": {
        "colab": {
          "base_uri": "https://localhost:8080/"
        },
        "id": "S6q2TAv5n6Rt",
        "outputId": "06bb8b1c-f89d-430e-f17b-b59dd91cc5fc"
      },
      "execution_count": 12,
      "outputs": [
        {
          "output_type": "stream",
          "name": "stdout",
          "text": [
            "True\n",
            "/content\n",
            "True\n",
            "True\n"
          ]
        }
      ]
    },
    {
      "cell_type": "markdown",
      "source": [
        "5"
      ],
      "metadata": {
        "id": "hN0jUlrHozlQ"
      }
    },
    {
      "cell_type": "code",
      "source": [
        "# files/manipulation.py\n",
        "from collections import Counter\n",
        "from string import ascii_letters\n",
        "\n",
        "# Definir los caracteres permitidos en 'chars'\n",
        "chars = ascii_letters + ' '\n",
        "\n",
        "# Función para eliminar caracteres no permitidos de una cadena 's'\n",
        "def sanitize(s, chars):\n",
        "    return ''.join(c for c in s if c in chars)\n",
        "\n",
        "# Función para invertir una cadena 's'\n",
        "def reverse(s):\n",
        "    return s[::-1]\n",
        "\n",
        "# Abrir el archivo 'fear.txt' en modo lectura utilizando un contexto 'with'\n",
        "with open('fear.txt') as stream:\n",
        "    # Leer todas las líneas del archivo, eliminando los espacios en blanco al final de cada línea\n",
        "    lines = [line.rstrip() for line in stream]\n",
        "\n",
        "# Escribir la versión invertida de las líneas en el archivo 'raef.txt'\n",
        "with open('raef.txt', 'w') as stream:\n",
        "    stream.write('\\n'.join(reverse(line) for line in lines))\n",
        "\n",
        "# Limpiar las líneas eliminando caracteres no permitidos\n",
        "lines = [sanitize(line, chars) for line in lines]\n",
        "\n",
        "# Unir todas las líneas en una sola cadena 'whole'\n",
        "whole = ' '.join(lines)\n",
        "\n",
        "# Realizar comparaciones en la versión en minúsculas de 'whole'\n",
        "cnt = Counter(whole.lower().split())\n",
        "\n",
        "# Imprimir las N palabras más comunes (en este caso, las 3 más comunes)\n",
        "print(cnt.most_common(3))\n"
      ],
      "metadata": {
        "colab": {
          "base_uri": "https://localhost:8080/"
        },
        "id": "v3VCR_A-o08w",
        "outputId": "1d6c2dcb-3eb3-455f-fe35-9db54b787867"
      },
      "execution_count": 13,
      "outputs": [
        {
          "output_type": "stream",
          "name": "stdout",
          "text": [
            "[('la', 7), ('de', 6), ('y', 5)]\n"
          ]
        }
      ]
    },
    {
      "cell_type": "markdown",
      "source": [
        "6"
      ],
      "metadata": {
        "id": "3_XPGFf2pVFB"
      }
    },
    {
      "cell_type": "code",
      "source": [
        "# files/paths.py\n",
        "from pathlib import Path\n",
        "\n",
        "# Crear un objeto de ruta para el archivo 'fear.txt'\n",
        "p = Path('fear.txt')\n",
        "\n",
        "# Imprimir la ruta absoluta de 'fear.txt'\n",
        "print(p.absolute())\n",
        "\n",
        "# Imprimir el nombre del archivo 'fear.txt'\n",
        "print(p.name)\n",
        "\n",
        "# Imprimir la ruta absoluta del directorio padre de 'fear.txt'\n",
        "print(p.parent.absolute())\n",
        "\n",
        "# Imprimir la extensión del archivo 'fear.txt'\n",
        "print(p.suffix)\n",
        "\n",
        "# Imprimir una tupla que contiene todas las partes de la ruta de 'fear.txt'\n",
        "print(p.parts)\n",
        "\n",
        "# Imprimir una tupla que contiene todas las partes de la ruta absoluta de 'fear.txt'\n",
        "print(p.absolute().parts)\n",
        "\n",
        "# Crear una ruta a 'README.rst' que está dos niveles por encima del directorio padre de 'fear.txt'\n",
        "readme_path = p.parent / '..' / '..' / 'README.rst'\n",
        "\n",
        "# Imprimir la ruta absoluta de 'README.rst'\n",
        "print(readme_path.absolute())\n",
        "\n",
        "# Imprimir la ruta absoluta resuelta de 'README.rst' (resuelve rutas relativas)\n",
        "print(readme_path.resolve())\n"
      ],
      "metadata": {
        "colab": {
          "base_uri": "https://localhost:8080/"
        },
        "id": "9hQ36RJepW5a",
        "outputId": "0e5a95c4-acc0-4dcb-c134-6f1993010a46"
      },
      "execution_count": 14,
      "outputs": [
        {
          "output_type": "stream",
          "name": "stdout",
          "text": [
            "/content/fear.txt\n",
            "fear.txt\n",
            "/content\n",
            ".txt\n",
            "('fear.txt',)\n",
            "('/', 'content', 'fear.txt')\n",
            "/content/../../README.rst\n",
            "/README.rst\n"
          ]
        }
      ]
    },
    {
      "cell_type": "markdown",
      "source": [
        "7"
      ],
      "metadata": {
        "id": "Yk_Vmg2aptsl"
      }
    },
    {
      "cell_type": "code",
      "source": [
        "# files/tmp.py\n",
        "from tempfile import NamedTemporaryFile, TemporaryDirectory\n",
        "\n",
        "# Crear un directorio temporal en el directorio actual y usarlo como contexto ('with')\n",
        "with TemporaryDirectory(dir='.') as td:\n",
        "    # Imprimir el nombre del directorio temporal\n",
        "    print('Directorio temporal:', td)\n",
        "\n",
        "    # Crear un archivo temporal dentro del directorio temporal y usarlo como contexto ('with')\n",
        "    with NamedTemporaryFile(dir=td) as t:\n",
        "        # Obtener el nombre del archivo temporal\n",
        "        name = t.name\n",
        "\n",
        "        # Imprimir el nombre del archivo temporal\n",
        "        print(name)\n"
      ],
      "metadata": {
        "colab": {
          "base_uri": "https://localhost:8080/"
        },
        "id": "KhPWVppTpufF",
        "outputId": "11ec7e3e-b430-4c0b-d93c-6c006d05154f"
      },
      "execution_count": 15,
      "outputs": [
        {
          "output_type": "stream",
          "name": "stdout",
          "text": [
            "Directorio temporal: ./tmpgiqr7s6f\n",
            "/content/tmpgiqr7s6f/tmpd7xjvh8i\n"
          ]
        }
      ]
    },
    {
      "cell_type": "markdown",
      "source": [
        "8"
      ],
      "metadata": {
        "id": "quveH19ZqCw8"
      }
    },
    {
      "cell_type": "code",
      "source": [
        "# files/listing.py\n",
        "from pathlib import Path\n",
        "\n",
        "# Crear un objeto de ruta para el directorio actual ('.')\n",
        "p = Path('.')\n",
        "\n",
        "# Iterar sobre todas las entradas (archivos y directorios) en el directorio actual\n",
        "for entry in p.glob('*'):\n",
        "    # Comprobar si la entrada es un archivo o un directorio y luego imprimir\n",
        "    if entry.is_file():\n",
        "        print('Archivo:', entry)\n",
        "    else:\n",
        "        print('Carpeta:', entry)\n"
      ],
      "metadata": {
        "colab": {
          "base_uri": "https://localhost:8080/"
        },
        "id": "aIjlTDNfqEJE",
        "outputId": "b15953e8-d6f1-40b3-a3a0-5337d1f3f525"
      },
      "execution_count": 16,
      "outputs": [
        {
          "output_type": "stream",
          "name": "stdout",
          "text": [
            "Carpeta: .config\n",
            "Carpeta: .ipynb_checkpoints\n",
            "Archivo: print_example.txt\n",
            "Archivo: fear.txt\n",
            "Archivo: raef.txt\n",
            "Carpeta: Untitled Folder\n",
            "Archivo: fear_copy.txt\n",
            "Carpeta: sample_data\n"
          ]
        }
      ]
    },
    {
      "cell_type": "markdown",
      "source": [
        "9"
      ],
      "metadata": {
        "id": "AMqHz-HEqgVw"
      }
    },
    {
      "cell_type": "code",
      "source": [
        "# json_examples/json_basic.py\n",
        "import json\n",
        "\n",
        "# Definir un diccionario 'info' con datos anidados\n",
        "info = {\n",
        "    'full_name': 'Sherlock Holmes',\n",
        "    'address': {\n",
        "        'street': '221B Baker St',\n",
        "        'zip': 'NW1 6XE',\n",
        "        'city': 'London',\n",
        "        'country': 'UK',\n",
        "    }\n",
        "}\n",
        "\n",
        "# Convertir el diccionario 'info' a una cadena JSON con formato legible\n",
        "# utilizando un sangrado de 2 espacios y ordenando las claves alfabéticamente\n",
        "json_string = json.dumps(info, indent=2, sort_keys=True)\n",
        "\n",
        "# Imprimir la cadena JSON resultante\n",
        "print(json_string)\n"
      ],
      "metadata": {
        "colab": {
          "base_uri": "https://localhost:8080/"
        },
        "id": "A0vz_Ag6qhbN",
        "outputId": "27b1eef6-52f5-40f0-d26b-d64cd3952c68"
      },
      "execution_count": 18,
      "outputs": [
        {
          "output_type": "stream",
          "name": "stdout",
          "text": [
            "{\n",
            "  \"address\": {\n",
            "    \"city\": \"London\",\n",
            "    \"country\": \"UK\",\n",
            "    \"street\": \"221B Baker St\",\n",
            "    \"zip\": \"NW1 6XE\"\n",
            "  },\n",
            "  \"full_name\": \"Sherlock Holmes\"\n",
            "}\n"
          ]
        }
      ]
    },
    {
      "cell_type": "markdown",
      "source": [
        "10"
      ],
      "metadata": {
        "id": "23M7Qd21rKI3"
      }
    },
    {
      "cell_type": "code",
      "source": [
        "# io_examples/string_io.py\n",
        "import io\n",
        "\n",
        "# Crear un objeto StringIO vacío\n",
        "stream = io.StringIO()\n",
        "\n",
        "# Escribir una cadena en el objeto StringIO\n",
        "stream.write('Aprendiendo programación en Python.\\n')\n",
        "\n",
        "# Imprimir una cadena en el objeto StringIO en lugar de en la consola\n",
        "print('¡Conviértete en un ninja de Python!', file=stream)\n",
        "\n",
        "# Obtener el contenido del objeto StringIO como una cadena\n",
        "contents = stream.getvalue()\n",
        "\n",
        "# Imprimir el contenido obtenido\n",
        "print(contents)\n"
      ],
      "metadata": {
        "colab": {
          "base_uri": "https://localhost:8080/"
        },
        "id": "LlDxwAQ0rLEU",
        "outputId": "50d11ba5-eb33-4d1f-caef-7d8b7f29c3a5"
      },
      "execution_count": 19,
      "outputs": [
        {
          "output_type": "stream",
          "name": "stdout",
          "text": [
            "Aprendiendo programación en Python.\n",
            "¡Conviértete en un ninja de Python!\n",
            "\n"
          ]
        }
      ]
    }
  ]
}