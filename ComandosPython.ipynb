{
  "nbformat": 4,
  "nbformat_minor": 0,
  "metadata": {
    "colab": {
      "provenance": []
    },
    "kernelspec": {
      "name": "python3",
      "display_name": "Python 3"
    },
    "language_info": {
      "name": "python"
    }
  },
  "cells": [
    {
      "cell_type": "code",
      "execution_count": 5,
      "metadata": {
        "colab": {
          "base_uri": "https://localhost:8080/"
        },
        "id": "dxSf7KmFc2cq",
        "outputId": "04be61ee-603a-416f-bd89-0f745fbd0617"
      },
      "outputs": [
        {
          "output_type": "stream",
          "name": "stdout",
          "text": [
            "Red\n",
            "Carbon fiber\n",
            "Blue\n",
            "Steel\n",
            "¡Braking!\n"
          ]
        }
      ],
      "source": [
        "# bike.py\n",
        "# Definamos la clase Bike (Bicicleta)\n",
        "class Bike:\n",
        "  def __init__(self, colour, frame_material):\n",
        "    self.colour = colour\n",
        "    self.frame_material = frame_material\n",
        "  def brake(self):\n",
        "    print(\"¡Braking!\")\n",
        "\n",
        "# Creemos un par de instancias\n",
        "red_bike = Bike('Red', 'Carbon fiber')\n",
        "blue_bike = Bike('Blue', 'Steel')\n",
        "\n",
        "# Inspeccionemos los objetos que tenemos, instancias de la clase Bike.\n",
        "print(red_bike.colour) # imprime: Red\n",
        "print(red_bike.frame_material) # imprime: Carbon fiber\n",
        "print(blue_bike.colour) # imprime: Blue\n",
        "print(blue_bike.frame_material) # imprime: Steel\n",
        "\n",
        "# ¡Vamos a frenar!\n",
        "red_bike.brake() # imprime: ¡Braking!\n"
      ]
    },
    {
      "cell_type": "code",
      "source": [
        "# scopes3.py\n",
        "# Local, Enclosing and Global\n",
        "\n",
        "# Definimos una función llamada enclosing_func\n",
        "def enclosing_func():\n",
        "  m = 13  # Creamos una variable m en el ámbito de enclosing_func\n",
        "  def local():\n",
        "    # La variable m no pertenece al ámbito definido por la función local\n",
        "    # por lo que Python seguirá buscando en el siguiente ámbito encerrado.\n",
        "    # En este caso, m se encuentra en el ámbito encerrado.\n",
        "    print(m, 'printing from the local scope')  # Imprime el valor de m desde el ámbito local\n",
        "  # Llamamos a la función local\n",
        "  local()\n",
        "\n",
        "m = 5  # Creamos una variable m en el ámbito global\n",
        "print(m, 'printing from the global scope')  # Imprime el valor de m desde el ámbito global\n",
        "\n",
        "# Llamamos a la función enclosing_func\n",
        "enclosing_func()\n"
      ],
      "metadata": {
        "colab": {
          "base_uri": "https://localhost:8080/"
        },
        "id": "S9tujpGQeGEq",
        "outputId": "1f6ebf05-3f73-4a25-f8d8-a17ea34c31bc"
      },
      "execution_count": 8,
      "outputs": [
        {
          "output_type": "stream",
          "name": "stdout",
          "text": [
            "5 printing from the global scope\n",
            "13 printing from the local scope\n"
          ]
        }
      ]
    },
    {
      "cell_type": "code",
      "source": [
        "# taxes.py\n",
        "income = 15000\n",
        "if income < 10000:\n",
        "  tax_coefficient = 0.0 #1\n",
        "elif income < 30000:\n",
        "  tax_coefficient = 0.2 #2\n",
        "elif income < 100000:\n",
        "  tax_coefficient = 0.35 #3\n",
        "else:\n",
        "  tax_coefficient = 0.45 #4\n",
        "print(f'You will pay: ${income * tax_coefficient} in taxes')"
      ],
      "metadata": {
        "colab": {
          "base_uri": "https://localhost:8080/"
        },
        "id": "DwFVLVVagBf1",
        "outputId": "6efc98c6-24a5-428d-dcfc-066956b2b0eb"
      },
      "execution_count": 10,
      "outputs": [
        {
          "output_type": "stream",
          "name": "stdout",
          "text": [
            "You will pay: $3000.0 in taxes\n"
          ]
        }
      ]
    },
    {
      "cell_type": "code",
      "source": [
        "# multiple.sequences.py\n",
        "people = ['Nick', 'Rick', 'Roger', 'Syd']\n",
        "ages = [23, 24, 23, 21]\n",
        "for position in range(len(people)):\n",
        "  person = people[position]\n",
        "  age = ages[position]\n",
        "  print(person, age)"
      ],
      "metadata": {
        "colab": {
          "base_uri": "https://localhost:8080/"
        },
        "id": "_Mg8UrrthPnU",
        "outputId": "7bbba1c4-0e5d-4d4b-a3f3-9d0fc400facd"
      },
      "execution_count": 12,
      "outputs": [
        {
          "output_type": "stream",
          "name": "stdout",
          "text": [
            "Nick 23\n",
            "Rick 24\n",
            "Roger 23\n",
            "Syd 21\n"
          ]
        }
      ]
    },
    {
      "cell_type": "code",
      "source": [
        "# multiple.sequences.while.py\n",
        "people = ['Nick', 'Rick', 'Roger', 'Syd']\n",
        "ages = [23, 24, 23, 21]\n",
        "position = 0\n",
        "while position < len(people):\n",
        "  person = people[position]\n",
        "  age = ages[position]\n",
        "  print(person, age)\n",
        "  position += 1"
      ],
      "metadata": {
        "colab": {
          "base_uri": "https://localhost:8080/"
        },
        "id": "f90SuxMihdVc",
        "outputId": "512df1ff-48e8-4f76-e987-d44b85586625"
      },
      "execution_count": 13,
      "outputs": [
        {
          "output_type": "stream",
          "name": "stdout",
          "text": [
            "Nick 23\n",
            "Rick 24\n",
            "Roger 23\n",
            "Syd 21\n"
          ]
        }
      ]
    },
    {
      "cell_type": "code",
      "source": [
        "# discount.py\n",
        "from datetime import date, timedelta\n",
        "today = date.today()\n",
        "tomorrow = today + timedelta(days=1) # today + 1 day is tomorrow\n",
        "products = [\n",
        "  {'sku': '1', 'expiration_date': today, 'price': 100.0},\n",
        "  {'sku': '2', 'expiration_date': tomorrow, 'price': 50},\n",
        "  {'sku': '3', 'expiration_date': today, 'price': 20},\n",
        "]\n",
        "for product in products:\n",
        "  if product['expiration_date'] != today:\n",
        "    continue\n",
        "  product['price'] *= 0.8 # equivalent to applying 20% discount\n",
        "  print(\n",
        "    'Price for sku', product['sku'],\n",
        "    'is now', product['price'])"
      ],
      "metadata": {
        "colab": {
          "base_uri": "https://localhost:8080/"
        },
        "id": "JWCLo3LihvIe",
        "outputId": "93d54011-2ebd-485c-ad80-303c65617bf5"
      },
      "execution_count": 14,
      "outputs": [
        {
          "output_type": "stream",
          "name": "stdout",
          "text": [
            "Price for sku 1 is now 80.0\n",
            "Price for sku 3 is now 16.0\n"
          ]
        }
      ]
    },
    {
      "cell_type": "code",
      "source": [
        "# menu.walrus.py\n",
        "flavors = [\"pistachio\", \"malaga\", \"vanilla\", \"chocolate\", \"strawberry\"]\n",
        "prompt = \"Choose your flavor: \"\n",
        "print(flavors)\n",
        "while (choice := input(prompt)) not in flavors:\n",
        "  print(f\"Sorry, '{choice}' is not a valid option.\")\n",
        "print(f\"You chose '{choice}'.\")"
      ],
      "metadata": {
        "colab": {
          "base_uri": "https://localhost:8080/"
        },
        "id": "5B7b_A70jCUK",
        "outputId": "d0dbf0f4-a48f-4ab9-af56-47ed733d6047"
      },
      "execution_count": 20,
      "outputs": [
        {
          "output_type": "stream",
          "name": "stdout",
          "text": [
            "['pistachio', 'malaga', 'vanilla', 'chocolate', 'strawberry']\n",
            "Choose your flavor: chocolate\n",
            "You chose 'chocolate'.\n"
          ]
        }
      ]
    },
    {
      "cell_type": "code",
      "source": [
        "# primes.py\n",
        "primes = [] # this will contain the primes at the end\n",
        "upto = 100 # the limit, inclusive\n",
        "for n in range(2, upto + 1):\n",
        "  is_prime = True # flag, new at each iteration of outer for\n",
        "  for divisor in range(2, n):\n",
        "    if n % divisor == 0:\n",
        "      is_prime = False\n",
        "      break\n",
        "  if is_prime: # check on flag\n",
        "    primes.append(n)\n",
        "print(primes)"
      ],
      "metadata": {
        "colab": {
          "base_uri": "https://localhost:8080/"
        },
        "id": "YCvw8cwJkQJI",
        "outputId": "0693b603-3f24-4666-e51b-07efd616d583"
      },
      "execution_count": 21,
      "outputs": [
        {
          "output_type": "stream",
          "name": "stdout",
          "text": [
            "[2, 3, 5, 7, 11, 13, 17, 19, 23, 29, 31, 37, 41, 43, 47, 53, 59, 61, 67, 71, 73, 79, 83, 89, 97]\n"
          ]
        }
      ]
    },
    {
      "cell_type": "code",
      "source": [
        "# parameters.default.py\n",
        "def func(a, b=4, c=88):\n",
        "  print(a, b, c)\n",
        "func(1) # prints: 1 4 88\n",
        "func(b=5, a=7, c=9) # prints: 7 5 9\n",
        "func(42, c=9) # prints: 42 4 9\n",
        "func(42, 43, 44) # prints: 42, 43, 44"
      ],
      "metadata": {
        "colab": {
          "base_uri": "https://localhost:8080/"
        },
        "id": "ciEp0-bXlQWs",
        "outputId": "7a511439-b4a3-4903-945f-0d2ca724f58c"
      },
      "execution_count": 22,
      "outputs": [
        {
          "output_type": "stream",
          "name": "stdout",
          "text": [
            "1 4 88\n",
            "7 5 9\n",
            "42 4 9\n",
            "42 43 44\n"
          ]
        }
      ]
    },
    {
      "cell_type": "code",
      "source": [
        "# primes.py\n",
        "from math import sqrt, ceil\n",
        "\n",
        "def get_primes(n):\n",
        "    \"\"\"Calculate a list of primes up to n (included).\"\"\"\n",
        "    primelist = []\n",
        "\n",
        "    for candidate in range(2, n + 1):\n",
        "        is_prime = True\n",
        "        root = ceil(sqrt(candidate))  # Límite de división\n",
        "\n",
        "        for prime in primelist:  # Probamos solo con los números primos\n",
        "            if prime > root:  # No es necesario seguir comprobando\n",
        "                break\n",
        "            if candidate % prime == 0:\n",
        "                is_prime = False\n",
        "                break\n",
        "\n",
        "        if is_prime:\n",
        "            primelist.append(candidate)\n",
        "    return primelist\n",
        "get_primes(100)"
      ],
      "metadata": {
        "colab": {
          "base_uri": "https://localhost:8080/"
        },
        "id": "rEWW6TE9lZyY",
        "outputId": "3f19c97f-f2a2-410b-eae4-6c1b08e24850"
      },
      "execution_count": 25,
      "outputs": [
        {
          "output_type": "execute_result",
          "data": {
            "text/plain": [
              "[2,\n",
              " 3,\n",
              " 5,\n",
              " 7,\n",
              " 11,\n",
              " 13,\n",
              " 17,\n",
              " 19,\n",
              " 23,\n",
              " 29,\n",
              " 31,\n",
              " 37,\n",
              " 41,\n",
              " 43,\n",
              " 47,\n",
              " 53,\n",
              " 59,\n",
              " 61,\n",
              " 67,\n",
              " 71,\n",
              " 73,\n",
              " 79,\n",
              " 83,\n",
              " 89,\n",
              " 97]"
            ]
          },
          "metadata": {},
          "execution_count": 25
        }
      ]
    }
  ]
}